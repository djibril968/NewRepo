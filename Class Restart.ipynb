{
 "cells": [
  {
   "cell_type": "markdown",
   "id": "d245594d",
   "metadata": {},
   "source": [
    "## Welcome to Data science class with Python"
   ]
  },
  {
   "cell_type": "markdown",
   "id": "da1e755b",
   "metadata": {},
   "source": [
    "\"\"\"\n",
    "\n",
    "we will start with the fundamentals \n",
    "such as operators and variables, data types \n",
    "and data structures\n",
    "\n",
    "\"\"\"\"\n"
   ]
  },
  {
   "cell_type": "code",
   "execution_count": null,
   "id": "efac56d8",
   "metadata": {},
   "outputs": [],
   "source": [
    "# operators and variables\n",
    "# here are the operators used in python\n",
    "# +, -, /, *, %, //"
   ]
  },
  {
   "cell_type": "code",
   "execution_count": 8,
   "id": "c321776d",
   "metadata": {},
   "outputs": [
    {
     "name": "stdout",
     "output_type": "stream",
     "text": [
      "31\n",
      "63\n",
      "225\n"
     ]
    }
   ],
   "source": [
    "# examples\n",
    "\n",
    "a = 7\n",
    "b = 9\n",
    "c = 15\n",
    "print(a+b+c)\n",
    "d = (a*b)\n",
    "print(d)\n",
    "e = (c**2)\n",
    "print(e)"
   ]
  },
  {
   "cell_type": "code",
   "execution_count": 4,
   "id": "54e0c8a2",
   "metadata": {},
   "outputs": [
    {
     "name": "stdout",
     "output_type": "stream",
     "text": [
      "945\n"
     ]
    }
   ],
   "source": [
    "print(a*b*c)"
   ]
  },
  {
   "cell_type": "code",
   "execution_count": 5,
   "id": "05b7244e",
   "metadata": {},
   "outputs": [
    {
     "name": "stdout",
     "output_type": "stream",
     "text": [
      "49\n"
     ]
    }
   ],
   "source": [
    "print(a**2)"
   ]
  },
  {
   "cell_type": "code",
   "execution_count": 15,
   "id": "7bd17915",
   "metadata": {},
   "outputs": [
    {
     "name": "stdout",
     "output_type": "stream",
     "text": [
      "5.0\n"
     ]
    }
   ],
   "source": [
    "q = (c/3)\n",
    "print(q)"
   ]
  },
  {
   "cell_type": "code",
   "execution_count": 16,
   "id": "33b99faf",
   "metadata": {},
   "outputs": [
    {
     "name": "stdout",
     "output_type": "stream",
     "text": [
      "<class 'int'>\n",
      "9\n",
      "<class 'int'>\n",
      "<class 'int'>\n",
      "<class 'int'>\n",
      "<class 'float'>\n"
     ]
    }
   ],
   "source": [
    "# working with data types\n",
    "f = type(a)\n",
    "print(f)\n",
    "g = type(b)\n",
    "print(b)\n",
    "h = type(c)\n",
    "print(h)\n",
    "i = type(d)\n",
    "print(i)\n",
    "j = type(e)\n",
    "print(j)\n",
    "k = type(q)\n",
    "print(k)"
   ]
  },
  {
   "cell_type": "code",
   "execution_count": 16,
   "id": "a13289d5",
   "metadata": {},
   "outputs": [
    {
     "name": "stdout",
     "output_type": "stream",
     "text": [
      "J\n",
      "o\n",
      "s\n",
      "e\n",
      "p\n",
      "h\n"
     ]
    }
   ],
   "source": [
    "name = \"Joseph\"\n",
    "type(name)\n",
    "for letter in name:\n",
    "    print(letter)"
   ]
  },
  {
   "cell_type": "code",
   "execution_count": 18,
   "id": "4deb71ef",
   "metadata": {},
   "outputs": [
    {
     "data": {
      "text/plain": [
       "bool"
      ]
     },
     "execution_count": 18,
     "metadata": {},
     "output_type": "execute_result"
    }
   ],
   "source": [
    "condition = 7 > 15\n",
    "type(condition)"
   ]
  },
  {
   "cell_type": "code",
   "execution_count": 25,
   "id": "6c66aa22",
   "metadata": {},
   "outputs": [
    {
     "name": "stdout",
     "output_type": "stream",
     "text": [
      "7.0\n"
     ]
    },
    {
     "data": {
      "text/plain": [
       "float"
      ]
     },
     "execution_count": 25,
     "metadata": {},
     "output_type": "execute_result"
    }
   ],
   "source": [
    "# Variable casting\n",
    "# this refers to coversion of variables\n",
    "l = float(a)\n",
    "print(l)\n",
    "type(l)"
   ]
  },
  {
   "cell_type": "code",
   "execution_count": 24,
   "id": "2bd58899",
   "metadata": {},
   "outputs": [
    {
     "name": "stdout",
     "output_type": "stream",
     "text": [
      "5\n"
     ]
    },
    {
     "data": {
      "text/plain": [
       "int"
      ]
     },
     "execution_count": 24,
     "metadata": {},
     "output_type": "execute_result"
    }
   ],
   "source": [
    "m = int(q)\n",
    "print(m)\n",
    "type(m)"
   ]
  },
  {
   "cell_type": "markdown",
   "id": "bad8be15",
   "metadata": {},
   "source": [
    "# Working with strings"
   ]
  },
  {
   "cell_type": "code",
   "execution_count": 2,
   "id": "fa308b52",
   "metadata": {},
   "outputs": [
    {
     "name": "stdout",
     "output_type": "stream",
     "text": [
      "Jamal\n",
      "Ozil\n"
     ]
    }
   ],
   "source": [
    "Fname = \"Jamal\"\n",
    "print(Fname)\n",
    "Lname = \"Ozil\"\n",
    "print(Lname)"
   ]
  },
  {
   "cell_type": "code",
   "execution_count": 18,
   "id": "6521b62c",
   "metadata": {},
   "outputs": [
    {
     "data": {
      "text/plain": [
       "'Jamal Ozil'"
      ]
     },
     "execution_count": 18,
     "metadata": {},
     "output_type": "execute_result"
    }
   ],
   "source": [
    "# adding up a string/concatenation\n",
    "Fname +' '+ Lname\n"
   ]
  },
  {
   "cell_type": "code",
   "execution_count": 19,
   "id": "0c1f11d9",
   "metadata": {},
   "outputs": [
    {
     "data": {
      "text/plain": [
       "5"
      ]
     },
     "execution_count": 19,
     "metadata": {},
     "output_type": "execute_result"
    }
   ],
   "source": [
    "len(Fname)"
   ]
  },
  {
   "cell_type": "code",
   "execution_count": 20,
   "id": "b15f1607",
   "metadata": {},
   "outputs": [
    {
     "data": {
      "text/plain": [
       "4"
      ]
     },
     "execution_count": 20,
     "metadata": {},
     "output_type": "execute_result"
    }
   ],
   "source": [
    "len(Lname)"
   ]
  },
  {
   "cell_type": "code",
   "execution_count": 21,
   "id": "00aa8262",
   "metadata": {},
   "outputs": [
    {
     "data": {
      "text/plain": [
       "'J'"
      ]
     },
     "execution_count": 21,
     "metadata": {},
     "output_type": "execute_result"
    }
   ],
   "source": [
    "Fname[0]"
   ]
  },
  {
   "cell_type": "code",
   "execution_count": 22,
   "id": "9e181418",
   "metadata": {},
   "outputs": [
    {
     "data": {
      "text/plain": [
       "'l'"
      ]
     },
     "execution_count": 22,
     "metadata": {},
     "output_type": "execute_result"
    }
   ],
   "source": [
    "Fname[-1]"
   ]
  },
  {
   "cell_type": "code",
   "execution_count": 24,
   "id": "3c29d055",
   "metadata": {},
   "outputs": [
    {
     "name": "stdout",
     "output_type": "stream",
     "text": [
      "the middle characters of Fname is\n"
     ]
    },
    {
     "data": {
      "text/plain": [
       "'ama'"
      ]
     },
     "execution_count": 24,
     "metadata": {},
     "output_type": "execute_result"
    }
   ],
   "source": [
    "print(\"the middle characters of Fname is\")\n",
    "Fname[1:4]"
   ]
  },
  {
   "cell_type": "code",
   "execution_count": 27,
   "id": "b0d3d318",
   "metadata": {},
   "outputs": [
    {
     "data": {
      "text/plain": [
       "'Ozi'"
      ]
     },
     "execution_count": 27,
     "metadata": {},
     "output_type": "execute_result"
    }
   ],
   "source": [
    "Lname[:3]"
   ]
  },
  {
   "cell_type": "code",
   "execution_count": 7,
   "id": "5504431e",
   "metadata": {},
   "outputs": [
    {
     "data": {
      "text/plain": [
       "'Ozil'"
      ]
     },
     "execution_count": 7,
     "metadata": {},
     "output_type": "execute_result"
    }
   ],
   "source": [
    "Lname[0:4]"
   ]
  },
  {
   "cell_type": "code",
   "execution_count": 3,
   "id": "673a43b9",
   "metadata": {
    "scrolled": false
   },
   "outputs": [
    {
     "data": {
      "text/plain": [
       "'l'"
      ]
     },
     "execution_count": 3,
     "metadata": {},
     "output_type": "execute_result"
    }
   ],
   "source": [
    "Lname[3]"
   ]
  },
  {
   "cell_type": "code",
   "execution_count": 16,
   "id": "9c57912f",
   "metadata": {},
   "outputs": [
    {
     "data": {
      "text/plain": [
       "'ozil'"
      ]
     },
     "execution_count": 16,
     "metadata": {},
     "output_type": "execute_result"
    }
   ],
   "source": [
    "Lname.lower()"
   ]
  },
  {
   "cell_type": "code",
   "execution_count": 18,
   "id": "4ca35ef9",
   "metadata": {},
   "outputs": [
    {
     "data": {
      "text/plain": [
       "'OZIL'"
      ]
     },
     "execution_count": 18,
     "metadata": {},
     "output_type": "execute_result"
    }
   ],
   "source": [
    "Lname.upper()"
   ]
  },
  {
   "cell_type": "code",
   "execution_count": 3,
   "id": "b84ed68b",
   "metadata": {
    "scrolled": true
   },
   "outputs": [
    {
     "data": {
      "text/plain": [
       "'Ozil'"
      ]
     },
     "execution_count": 3,
     "metadata": {},
     "output_type": "execute_result"
    }
   ],
   "source": [
    "Lname.title()"
   ]
  },
  {
   "cell_type": "code",
   "execution_count": null,
   "id": "30f22aaf",
   "metadata": {},
   "outputs": [],
   "source": [
    "# Reversing a string"
   ]
  },
  {
   "cell_type": "code",
   "execution_count": 15,
   "id": "c8327222",
   "metadata": {},
   "outputs": [
    {
     "data": {
      "text/plain": [
       "'OZIL'"
      ]
     },
     "execution_count": 15,
     "metadata": {},
     "output_type": "execute_result"
    }
   ],
   "source": [
    "Lname.upper()"
   ]
  },
  {
   "cell_type": "code",
   "execution_count": 4,
   "id": "89c4f7c4",
   "metadata": {
    "scrolled": true
   },
   "outputs": [
    {
     "data": {
      "text/plain": [
       "'lizO'"
      ]
     },
     "execution_count": 4,
     "metadata": {},
     "output_type": "execute_result"
    }
   ],
   "source": [
    "Lname[::-1]"
   ]
  },
  {
   "cell_type": "code",
   "execution_count": null,
   "id": "b3c1e07b",
   "metadata": {},
   "outputs": [],
   "source": [
    "# Formatting strings\n",
    "# this can be done using the \"{}\".format()"
   ]
  },
  {
   "cell_type": "code",
   "execution_count": 33,
   "id": "df4609f4",
   "metadata": {},
   "outputs": [
    {
     "name": "stdout",
     "output_type": "stream",
     "text": [
      "love for life\n"
     ]
    }
   ],
   "source": [
    "my_song = \"{} {} {}\".format('love', 'for', 'life')\n",
    "print(my_song)"
   ]
  },
  {
   "cell_type": "code",
   "execution_count": 37,
   "id": "d72e7503",
   "metadata": {},
   "outputs": [
    {
     "name": "stdout",
     "output_type": "stream",
     "text": [
      "for love life i will live\n"
     ]
    }
   ],
   "source": [
    "my_song = \"{1} {0} {2}\".format(\"love\", \"for\", \"life\" )\n",
    "print(my_song +\" \"+ \"i will live\")"
   ]
  },
  {
   "cell_type": "code",
   "execution_count": 34,
   "id": "5793b33d",
   "metadata": {},
   "outputs": [
    {
     "name": "stdout",
     "output_type": "stream",
     "text": [
      "life for love\n"
     ]
    }
   ],
   "source": [
    "my_song = \"{2} {1} {0}\".format(\"love\", \"for\", \"life\" )\n",
    "print(my_song)"
   ]
  },
  {
   "cell_type": "code",
   "execution_count": null,
   "id": "eb9b0a1b",
   "metadata": {},
   "outputs": [],
   "source": []
  },
  {
   "cell_type": "code",
   "execution_count": null,
   "id": "fd3ec4e1",
   "metadata": {},
   "outputs": [],
   "source": []
  },
  {
   "cell_type": "markdown",
   "id": "9fcbb8be",
   "metadata": {},
   "source": [
    "# Data structures\n",
    "# working with List, Tuple, Set and Dictionary"
   ]
  },
  {
   "cell_type": "code",
   "execution_count": null,
   "id": "57e4cc37",
   "metadata": {},
   "outputs": [],
   "source": [
    "# creating a list\n",
    "# Slicing a list"
   ]
  },
  {
   "cell_type": "code",
   "execution_count": 2,
   "id": "a3d00c8a",
   "metadata": {
    "scrolled": false
   },
   "outputs": [
    {
     "name": "stdout",
     "output_type": "stream",
     "text": [
      "['John', 'Jane', 'Bola', 'Chuks']\n"
     ]
    }
   ],
   "source": [
    "student_list = [\"John\", \"Jane\", \"Bola\", \"Chuks\"]\n",
    "print(student_list)"
   ]
  },
  {
   "cell_type": "code",
   "execution_count": null,
   "id": "ea721db8",
   "metadata": {},
   "outputs": [],
   "source": [
    "# Updating a list"
   ]
  },
  {
   "cell_type": "code",
   "execution_count": 3,
   "id": "ec01368a",
   "metadata": {},
   "outputs": [
    {
     "name": "stdout",
     "output_type": "stream",
     "text": [
      "['John', 'Jane', 'Bola', 'Chuks', 'Kelly', 'Beth']\n"
     ]
    }
   ],
   "source": [
    "student_list.extend([\"Kelly\", \"Beth\"])\n",
    "print(student_list)"
   ]
  },
  {
   "cell_type": "code",
   "execution_count": 5,
   "id": "9d75b07b",
   "metadata": {
    "scrolled": true
   },
   "outputs": [
    {
     "name": "stdout",
     "output_type": "stream",
     "text": [
      "['John', 'Jane', 'Bola', 'Chuks', 'Kelly', 'Beth', 'Frank', 'Frank']\n"
     ]
    }
   ],
   "source": [
    "student_list.append(\"Frank\")\n",
    "print(student_list)"
   ]
  },
  {
   "cell_type": "code",
   "execution_count": 7,
   "id": "0b269a5a",
   "metadata": {},
   "outputs": [
    {
     "data": {
      "text/plain": [
       "2"
      ]
     },
     "execution_count": 7,
     "metadata": {},
     "output_type": "execute_result"
    }
   ],
   "source": [
    "student_list.count('Frank')"
   ]
  },
  {
   "cell_type": "code",
   "execution_count": 8,
   "id": "83a24df1",
   "metadata": {
    "scrolled": false
   },
   "outputs": [
    {
     "name": "stdout",
     "output_type": "stream",
     "text": [
      "['John', 'Jane', 'Bola', 'Chuks', 'Kelly', 'Beth', 'Frank']\n"
     ]
    }
   ],
   "source": [
    "student_list.pop(6)\n",
    "print(student_list)"
   ]
  },
  {
   "cell_type": "code",
   "execution_count": 9,
   "id": "809bfaf6",
   "metadata": {
    "scrolled": true
   },
   "outputs": [
    {
     "name": "stdout",
     "output_type": "stream",
     "text": [
      "['John', 'Jane', 'Bola', 'Chuks', 'Kelly', 'Beth', 'Frank', 'Bola']\n"
     ]
    }
   ],
   "source": [
    "student_list.append(\"Bola\")\n",
    "print(student_list)"
   ]
  },
  {
   "cell_type": "code",
   "execution_count": 10,
   "id": "fe2fb826",
   "metadata": {},
   "outputs": [
    {
     "name": "stdout",
     "output_type": "stream",
     "text": [
      "['John', 'Jane', 'Bola', 'Chuks', 'Beth', 'Frank', 'Bola']\n"
     ]
    }
   ],
   "source": [
    "student_list.pop(4)\n",
    "print(student_list)"
   ]
  },
  {
   "cell_type": "code",
   "execution_count": 43,
   "id": "14136b1e",
   "metadata": {},
   "outputs": [
    {
     "name": "stdout",
     "output_type": "stream",
     "text": [
      "['John', 'Jane', 'Chuks', 'Frank', 'Bola']\n"
     ]
    }
   ],
   "source": [
    "student_list.pop(4)\n",
    "print(student_list)"
   ]
  },
  {
   "cell_type": "code",
   "execution_count": 11,
   "id": "b604fa23",
   "metadata": {},
   "outputs": [
    {
     "name": "stdout",
     "output_type": "stream",
     "text": [
      "['John', 'Jane', 'Bola', 'Chuks', 'Beth', 'Frank', 'Bola', 'Seun']\n"
     ]
    }
   ],
   "source": [
    "student_list.append(\"Seun\")\n",
    "print(student_list)"
   ]
  },
  {
   "cell_type": "code",
   "execution_count": 12,
   "id": "aa7629d2",
   "metadata": {
    "scrolled": false
   },
   "outputs": [
    {
     "name": "stdout",
     "output_type": "stream",
     "text": [
      "['John', 'Jane', 'Bola', 'Chuks', 'Beth', 'Frank', 'Bola', 'Seun', 'Abdulazeez']\n"
     ]
    }
   ],
   "source": [
    "student_list.append(\"Abdulazeez\")\n",
    "print(student_list)"
   ]
  },
  {
   "cell_type": "code",
   "execution_count": 13,
   "id": "10f26290",
   "metadata": {},
   "outputs": [
    {
     "name": "stdout",
     "output_type": "stream",
     "text": [
      "['John', 'Jane', 'Bola', 'Chuks', 'Beth', 'Frank', 'Bola', 'Seun', 'Abdulazeez', 'Rasaq']\n"
     ]
    }
   ],
   "source": [
    "student_list.append(\"Rasaq\")\n",
    "print(student_list)"
   ]
  },
  {
   "cell_type": "code",
   "execution_count": 15,
   "id": "8b5972d6",
   "metadata": {},
   "outputs": [
    {
     "name": "stdout",
     "output_type": "stream",
     "text": [
      "['John', 'Jane', 'Bola', 'Chuks', 'Beth', 'Frank', 'Bola', 'Seun', 'Abdulazeez', 'Rasaq', 'Mubarak', 'Fatima', 'Danladi', 'Mubarak', 'Fatima', 'Danladi']\n"
     ]
    }
   ],
   "source": [
    "student_list.extend([\"Mubarak\", \"Fatima\", \"Danladi\"])\n",
    "print(student_list)"
   ]
  },
  {
   "cell_type": "code",
   "execution_count": 16,
   "id": "8cee9e18",
   "metadata": {},
   "outputs": [
    {
     "data": {
      "text/plain": [
       "1"
      ]
     },
     "execution_count": 16,
     "metadata": {},
     "output_type": "execute_result"
    }
   ],
   "source": [
    "student_list.count('Jane')"
   ]
  },
  {
   "cell_type": "markdown",
   "id": "86daef54",
   "metadata": {},
   "source": [
    "\"\"\"In the above examples, append only allows you to add one item at a time,\n",
    "while extend allows you to add multiple items\"\"\""
   ]
  },
  {
   "cell_type": "code",
   "execution_count": 10,
   "id": "67e25fb1",
   "metadata": {
    "scrolled": true
   },
   "outputs": [
    {
     "name": "stdout",
     "output_type": "stream",
     "text": [
      "['John', 'Jane', 'Bola', 'Chuks', 'Chioma', 'Qudus', 'Favor', 'Abdulazeez', 'Chioma', 'Qudus', 'Favor']\n"
     ]
    }
   ],
   "source": [
    "student_list.extend([\"Chioma\", \"Qudus\", \"Favor\"])\n",
    "print(student_list)"
   ]
  },
  {
   "cell_type": "code",
   "execution_count": 17,
   "id": "1a4941ce",
   "metadata": {},
   "outputs": [
    {
     "name": "stdout",
     "output_type": "stream",
     "text": [
      "['John', 'Jane', 'Bola', 'Chuks', 'Beth', 'Frank', 'Bola', 'Seun', 'Abdulazeez', 'Rasaq', 'Mubarak', 'Fatima', 'Danladi', 'Mubarak', 'Fatima', 'Danladi', 'Grace', 'Jennifer', 'Halima']\n"
     ]
    }
   ],
   "source": [
    "student_list.extend([\"Grace\", \"Jennifer\", \"Halima\"])\n",
    "print(student_list)"
   ]
  },
  {
   "cell_type": "code",
   "execution_count": 12,
   "id": "62a71d76",
   "metadata": {},
   "outputs": [
    {
     "name": "stdout",
     "output_type": "stream",
     "text": [
      "['John', 'Jane', 'Bola', 'Chuks', 'Tolu', 'Chioma', 'Qudus', 'Favor', 'Abdulazeez', 'Chioma', 'Qudus', 'Favor', 'Grace', 'Jennifer', 'Halima']\n"
     ]
    }
   ],
   "source": [
    "# Insert\n",
    "#this is used to add items to a specific location in a list\n",
    "\n",
    "student_list.insert(4, \"Tolu\")\n",
    "print(student_list)"
   ]
  },
  {
   "cell_type": "code",
   "execution_count": 13,
   "id": "04e20c41",
   "metadata": {},
   "outputs": [
    {
     "name": "stdout",
     "output_type": "stream",
     "text": [
      "['Abdulazeez', 'Bola', 'Chioma', 'Chioma', 'Chuks', 'Favor', 'Favor', 'Grace', 'Halima', 'Jane', 'Jennifer', 'John', 'Qudus', 'Qudus', 'Tolu']\n"
     ]
    }
   ],
   "source": [
    "student_list.sort()\n",
    "print(student_list)"
   ]
  },
  {
   "cell_type": "code",
   "execution_count": 14,
   "id": "003240f3",
   "metadata": {},
   "outputs": [
    {
     "data": {
      "text/plain": [
       "list"
      ]
     },
     "execution_count": 14,
     "metadata": {},
     "output_type": "execute_result"
    }
   ],
   "source": [
    "type(student_list)"
   ]
  },
  {
   "cell_type": "code",
   "execution_count": 22,
   "id": "a4db3cf5",
   "metadata": {},
   "outputs": [
    {
     "name": "stdout",
     "output_type": "stream",
     "text": [
      "Enter your name: Joan, Ralph, Sylvester\n",
      "The list is: ['Joan,', 'Ralph,', 'Sylvester']\n"
     ]
    }
   ],
   "source": [
    "#Creating a list by taking input from a user\n",
    "group_list = input(\"Enter your name: \")\n",
    "groupA = group_list.split()\n",
    "print('The list is:', groupA)"
   ]
  },
  {
   "cell_type": "code",
   "execution_count": null,
   "id": "b7a22f56",
   "metadata": {},
   "outputs": [],
   "source": []
  },
  {
   "cell_type": "code",
   "execution_count": null,
   "id": "c135e8af",
   "metadata": {},
   "outputs": [],
   "source": []
  },
  {
   "cell_type": "code",
   "execution_count": null,
   "id": "f728deb3",
   "metadata": {},
   "outputs": [],
   "source": [
    "#Tuple\n",
    "\"\"\"this is similar to a list only that it cannot be altered\"\"\""
   ]
  },
  {
   "cell_type": "code",
   "execution_count": 3,
   "id": "a0528322",
   "metadata": {},
   "outputs": [
    {
     "name": "stdout",
     "output_type": "stream",
     "text": [
      "('Goat', 'Deer', 'Chicken', 'Cat')\n"
     ]
    }
   ],
   "source": [
    "my_tup = (\"Goat\", \"Deer\", \"Chicken\", \"Cat\")\n",
    "type(my_tup)\n",
    "print(my_tup)"
   ]
  },
  {
   "cell_type": "code",
   "execution_count": 5,
   "id": "9fc70434",
   "metadata": {},
   "outputs": [
    {
     "data": {
      "text/plain": [
       "'Goat'"
      ]
     },
     "execution_count": 5,
     "metadata": {},
     "output_type": "execute_result"
    }
   ],
   "source": [
    "my_tup[0]"
   ]
  },
  {
   "cell_type": "code",
   "execution_count": 11,
   "id": "d581a491",
   "metadata": {},
   "outputs": [
    {
     "data": {
      "text/plain": [
       "('Deer', 'Chicken', 'Cat')"
      ]
     },
     "execution_count": 11,
     "metadata": {},
     "output_type": "execute_result"
    }
   ],
   "source": [
    "my_tup[1:]"
   ]
  },
  {
   "cell_type": "code",
   "execution_count": 39,
   "id": "28b71df0",
   "metadata": {},
   "outputs": [
    {
     "name": "stdout",
     "output_type": "stream",
     "text": [
      "{'plate', 'spoon'}\n"
     ]
    },
    {
     "data": {
      "text/plain": [
       "set"
      ]
     },
     "execution_count": 39,
     "metadata": {},
     "output_type": "execute_result"
    }
   ],
   "source": [
    "my_set = {\"plate\", \"spoon\"}\n",
    "print(my_set)\n",
    "type(my_set)"
   ]
  },
  {
   "cell_type": "code",
   "execution_count": 17,
   "id": "4e919405",
   "metadata": {},
   "outputs": [
    {
     "name": "stdout",
     "output_type": "stream",
     "text": [
      "34\n"
     ]
    }
   ],
   "source": [
    "for i in range(1,100,3):\n",
    "    if i == 34:\n",
    "        print(i)\n",
    "        break"
   ]
  },
  {
   "cell_type": "code",
   "execution_count": 27,
   "id": "71249c8c",
   "metadata": {},
   "outputs": [
    {
     "name": "stdout",
     "output_type": "stream",
     "text": [
      "This loop skips 34\n",
      "1\n",
      "4\n",
      "7\n",
      "10\n",
      "13\n",
      "16\n",
      "19\n",
      "22\n",
      "25\n",
      "28\n",
      "31\n",
      "37\n",
      "40\n",
      "43\n",
      "46\n",
      "49\n",
      "52\n",
      "55\n",
      "58\n",
      "61\n",
      "64\n",
      "67\n",
      "70\n",
      "73\n",
      "76\n",
      "79\n",
      "82\n",
      "85\n",
      "88\n",
      "91\n",
      "94\n",
      "97\n"
     ]
    }
   ],
   "source": [
    "#Syntax to skip a number when iterating through a loop\n",
    "print(\"This loop skips 34\")\n",
    "for i in range(1,100,3):\n",
    "    if i == 34:\n",
    "        continue\n",
    "    print(i)\n",
    "       "
   ]
  },
  {
   "cell_type": "code",
   "execution_count": null,
   "id": "8cb767bf",
   "metadata": {},
   "outputs": [],
   "source": [
    "#Mini projects\n",
    "'Task 1: Write a python syntax that takes attendance of students '\n",
    "'Task 2: Write a python syntax that allow users enter any 3 passwords,'\n",
    "'Task 3: create a python list of animals and perform basic operations on the list,'\n",
    "'Task 4: create a python list containing numbers and perform basic arithmetic operations,\n",
    "'Task 5: Write a python syntax that allows you enter just 3 inputs\n",
    "'Task 6: create a python dictionary and perfor basic operations\"\"\"''"
   ]
  },
  {
   "cell_type": "code",
   "execution_count": 12,
   "id": "e3f72a35",
   "metadata": {
    "scrolled": true
   },
   "outputs": [
    {
     "name": "stdout",
     "output_type": "stream",
     "text": [
      "This program takes the attendance of students to show whether or not they were present in the last class\n",
      "class attendance\n",
      "Enter your name in the box given below\n",
      "Fname: Bola\n",
      "Present\n"
     ]
    }
   ],
   "source": [
    "# This program takes the attendance of students to show whether or not they were present in the last class\n",
    "print('This program takes the attendance of students to show whether or not they were present in the last class')\n",
    "print(\"class attendance\")\n",
    "print('Enter your name in the box given below')\n",
    "class_list = ['John', 'Jane', 'Bola', 'Chuks', 'Beth', 'Frank', 'Bola', 'Seun', 'Abdulazeez', 'Rasaq', 'Mubarak', 'Fatima', 'Danladi', 'Mubarak', 'Fatima', 'Danladi']\n",
    "name = input('Fname: ')\n",
    "if name in class_list:\n",
    "    print(\"Present\")\n",
    "else:\n",
    "    print(\"Absent\")"
   ]
  },
  {
   "cell_type": "code",
   "execution_count": 20,
   "id": "e99064e7",
   "metadata": {
    "scrolled": true
   },
   "outputs": [
    {
     "name": "stdout",
     "output_type": "stream",
     "text": [
      "This is a python syntax that allow users enter any 2 passwords,\n",
      "please enter your secret code in the box given\n",
      "Password: 2534\n",
      "Access denied!!!, try again\n"
     ]
    }
   ],
   "source": [
    "#Task 2\n",
    "print('This is a python syntax that allow users enter any 2 passwords,')\n",
    "print(\"please enter your secret code in the box given\")\n",
    "Password = input(\"Password: \")\n",
    "password = int(Password)\n",
    "if password == 7680:\n",
    "    print(\"Access granted\")\n",
    "elif password == 1234:\n",
    "    print(\"Access granted\")\n",
    "else:\n",
    "    print(\"Access denied!!!, try again\")"
   ]
  },
  {
   "cell_type": "code",
   "execution_count": 53,
   "id": "36f034d8",
   "metadata": {
    "scrolled": false
   },
   "outputs": [
    {
     "name": "stdout",
     "output_type": "stream",
     "text": [
      "This is a python list containing numbers and perform basic arithmetic operations\n",
      "Total scores\n",
      "453\n"
     ]
    }
   ],
   "source": [
    "#Task 4: \n",
    "print('This is a python list containing numbers and perform basic arithmetic operations')\n",
    "print('Total scores')\n",
    "scores = [77, 89, 65, 77, 65, 80]\n",
    "sum = 0\n",
    "for number in scores:\n",
    "      sum = sum + number\n",
    "print(sum)"
   ]
  },
  {
   "cell_type": "code",
   "execution_count": null,
   "id": "27f9f1f1",
   "metadata": {},
   "outputs": [],
   "source": [
    "![IMG_20211011_064945_135.jpg](attachment:IMG_20211011_064945_135.jpg)"
   ]
  },
  {
   "cell_type": "code",
   "execution_count": 2,
   "id": "ea17e424",
   "metadata": {},
   "outputs": [
    {
     "ename": "SyntaxError",
     "evalue": "invalid syntax (307744956.py, line 5)",
     "output_type": "error",
     "traceback": [
      "\u001b[1;36m  Input \u001b[1;32mIn [2]\u001b[1;36m\u001b[0m\n\u001b[1;33m    Image(url=C:\\Users\\DELL\\Pictures\\Instagram\"IMG_20211011_064945_135.jpeg\", width=300, height=300\u001b[0m\n\u001b[1;37m               ^\u001b[0m\n\u001b[1;31mSyntaxError\u001b[0m\u001b[1;31m:\u001b[0m invalid syntax\n"
     ]
    }
   ],
   "source": [
    "# import image module\n",
    "from IPython.display import Image\n",
    "from IPython.core.display import HTML \n",
    "Image(url= \"http://my_site.com/my_picture.jpg\")\n",
    "  \n",
    "# get the image\n",
    "Image(url=C:\\Users\\DELL\\Pictures\\Instagram\"IMG_20211011_064945_135.jpeg\", width=300, height=300"
   ]
  },
  {
   "cell_type": "code",
   "execution_count": 4,
   "id": "0456a899",
   "metadata": {},
   "outputs": [
    {
     "data": {
      "image/jpeg": "[encoded data removed]",
      "text/plain": [
       "<IPython.core.display.Image object>"
      ]
     },
     "execution_count": 4,
     "metadata": {
      "image/jpeg": {
       "height": 190,
       "width": 200
      }
     },
     "output_type": "execute_result"
    }
   ],
   "source": [
    "# import image module\n",
    "from IPython.display import Image\n",
    "from IPython.core.display import HTML \n",
    "PATH = \"/Users/DELL/Pictures/Instagram/\"\n",
    "Image(filename = PATH + \"IMG_20211011_064945_135.jpg\", width=200, height=190)"
   ]
  },
  {
   "cell_type": "code",
   "execution_count": 5,
   "id": "61fe4243",
   "metadata": {},
   "outputs": [
    {
     "name": "stdout",
     "output_type": "stream",
     "text": [
      "       Province/State  Country/Region          Last Update  Confirmed  Deaths  \\\n",
      "0               Hubei           China  2020-03-17T11:53:10      67799    3111   \n",
      "1                 NaN           Italy  2020-03-17T18:33:02      31506    2503   \n",
      "2                 NaN            Iran  2020-03-17T15:13:09      16169     988   \n",
      "3                 NaN           Spain  2020-03-17T20:53:02      11748     533   \n",
      "4                 NaN         Germany  2020-03-17T18:53:02       9257      24   \n",
      "..                ...             ...                  ...        ...     ...   \n",
      "303           Unknown         Ukraine  2020-03-17T11:53:10          0       0   \n",
      "304           England  United Kingdom  2020-03-17T11:53:10          0     198   \n",
      "305  Northern Ireland  United Kingdom  2020-03-17T11:53:10          0       0   \n",
      "306          Scotland  United Kingdom  2020-03-17T11:53:10          0      11   \n",
      "307             Wales  United Kingdom  2020-03-17T11:53:10          0       5   \n",
      "\n",
      "     Recovered  Latitude  Longitude  \n",
      "0        56003   30.9756   112.2707  \n",
      "1         2941   41.8719    12.5674  \n",
      "2         5389   32.4279    53.6880  \n",
      "3         1028   40.4637    -3.7492  \n",
      "4           67   51.1657    10.4515  \n",
      "..         ...       ...        ...  \n",
      "303          0       NaN        NaN  \n",
      "304          0   52.3555    -1.1743  \n",
      "305          0   54.7877    -6.4923  \n",
      "306          0   56.4907    -4.2026  \n",
      "307          0   52.1307    -3.7837  \n",
      "\n",
      "[308 rows x 8 columns]\n",
      "\n",
      "Dataset information:\n",
      "<class 'pandas.core.frame.DataFrame'>\n",
      "RangeIndex: 308 entries, 0 to 307\n",
      "Data columns (total 8 columns):\n",
      " #   Column          Non-Null Count  Dtype  \n",
      "---  ------          --------------  -----  \n",
      " 0   Province/State  152 non-null    object \n",
      " 1   Country/Region  308 non-null    object \n",
      " 2   Last Update     308 non-null    object \n",
      " 3   Confirmed       308 non-null    int64  \n",
      " 4   Deaths          308 non-null    int64  \n",
      " 5   Recovered       308 non-null    int64  \n",
      " 6   Latitude        305 non-null    float64\n",
      " 7   Longitude       305 non-null    float64\n",
      "dtypes: float64(2), int64(3), object(3)\n",
      "memory usage: 19.4+ KB\n",
      "None\n",
      "\n",
      "Missing data information:\n",
      "Province/State    156\n",
      "Country/Region      0\n",
      "Last Update         0\n",
      "Confirmed           0\n",
      "Deaths              0\n",
      "Recovered           0\n",
      "Latitude            3\n",
      "Longitude           3\n",
      "dtype: int64\n"
     ]
    }
   ],
   "source": [
    "import pandas as pd\n",
    "covid_data= pd.read_csv('https://raw.githubusercontent.com/CSSEGISandData/COVID-19/master/csse_covid_19_data/csse_covid_19_daily_reports/03-17-2020.csv')\n",
    "print(covid_data)\n",
    "print(\"\\nDataset information:\")\n",
    "print(covid_data.info())\n",
    "print(\"\\nMissing data information:\")\n",
    "print(covid_data.isna().sum())"
   ]
  },
  {
   "cell_type": "code",
   "execution_count": null,
   "id": "815abf89",
   "metadata": {},
   "outputs": [],
   "source": []
  },
  {
   "cell_type": "code",
   "execution_count": null,
   "id": "c966962b",
   "metadata": {},
   "outputs": [],
   "source": []
  },
  {
   "cell_type": "code",
   "execution_count": null,
   "id": "6ce28fa3",
   "metadata": {},
   "outputs": [],
   "source": []
  },
  {
   "cell_type": "code",
   "execution_count": null,
   "id": "b8286945",
   "metadata": {},
   "outputs": [],
   "source": []
  },
  {
   "cell_type": "code",
   "execution_count": null,
   "id": "4abf69ac",
   "metadata": {},
   "outputs": [],
   "source": []
  },
  {
   "cell_type": "code",
   "execution_count": null,
   "id": "6f536761",
   "metadata": {},
   "outputs": [],
   "source": []
  },
  {
   "cell_type": "code",
   "execution_count": null,
   "id": "2234873c",
   "metadata": {},
   "outputs": [],
   "source": []
  },
  {
   "cell_type": "code",
   "execution_count": null,
   "id": "c336f3a4",
   "metadata": {},
   "outputs": [],
   "source": []
  },
  {
   "cell_type": "code",
   "execution_count": null,
   "id": "2ea81ff6",
   "metadata": {},
   "outputs": [],
   "source": []
  },
  {
   "cell_type": "code",
   "execution_count": null,
   "id": "83c4f704",
   "metadata": {},
   "outputs": [],
   "source": []
  },
  {
   "cell_type": "code",
   "execution_count": null,
   "id": "735876ba",
   "metadata": {},
   "outputs": [],
   "source": []
  },
  {
   "cell_type": "code",
   "execution_count": null,
   "id": "d442e739",
   "metadata": {},
   "outputs": [],
   "source": []
  },
  {
   "cell_type": "code",
   "execution_count": null,
   "id": "8a5a7d60",
   "metadata": {},
   "outputs": [],
   "source": []
  },
  {
   "cell_type": "code",
   "execution_count": null,
   "id": "2cb29283",
   "metadata": {},
   "outputs": [],
   "source": []
  },
  {
   "cell_type": "code",
   "execution_count": null,
   "id": "6bf0a750",
   "metadata": {},
   "outputs": [],
   "source": []
  },
  {
   "cell_type": "code",
   "execution_count": null,
   "id": "fea60eae",
   "metadata": {},
   "outputs": [],
   "source": []
  },
  {
   "cell_type": "code",
   "execution_count": null,
   "id": "7cfdf247",
   "metadata": {},
   "outputs": [],
   "source": []
  },
  {
   "cell_type": "code",
   "execution_count": null,
   "id": "5a768392",
   "metadata": {},
   "outputs": [],
   "source": []
  },
  {
   "cell_type": "code",
   "execution_count": null,
   "id": "df6c2bc6",
   "metadata": {},
   "outputs": [],
   "source": []
  },
  {
   "cell_type": "code",
   "execution_count": null,
   "id": "9b198dbe",
   "metadata": {},
   "outputs": [],
   "source": []
  },
  {
   "cell_type": "code",
   "execution_count": null,
   "id": "a0475220",
   "metadata": {},
   "outputs": [],
   "source": []
  },
  {
   "cell_type": "code",
   "execution_count": null,
   "id": "328dc733",
   "metadata": {},
   "outputs": [],
   "source": []
  },
  {
   "cell_type": "code",
   "execution_count": null,
   "id": "2e0adfb3",
   "metadata": {},
   "outputs": [],
   "source": []
  },
  {
   "cell_type": "code",
   "execution_count": null,
   "id": "ca3b5e17",
   "metadata": {},
   "outputs": [],
   "source": []
  },
  {
   "cell_type": "code",
   "execution_count": null,
   "id": "ae8944b8",
   "metadata": {},
   "outputs": [],
   "source": []
  },
  {
   "cell_type": "code",
   "execution_count": null,
   "id": "0c24f098",
   "metadata": {},
   "outputs": [],
   "source": []
  },
  {
   "cell_type": "code",
   "execution_count": null,
   "id": "effbe827",
   "metadata": {},
   "outputs": [],
   "source": []
  },
  {
   "cell_type": "code",
   "execution_count": null,
   "id": "69a1d91d",
   "metadata": {},
   "outputs": [],
   "source": []
  },
  {
   "cell_type": "code",
   "execution_count": null,
   "id": "bb813711",
   "metadata": {},
   "outputs": [],
   "source": []
  },
  {
   "cell_type": "code",
   "execution_count": null,
   "id": "9e5e0360",
   "metadata": {},
   "outputs": [],
   "source": []
  },
  {
   "cell_type": "code",
   "execution_count": null,
   "id": "97dd7b25",
   "metadata": {},
   "outputs": [],
   "source": []
  },
  {
   "cell_type": "code",
   "execution_count": null,
   "id": "a39f7bc7",
   "metadata": {},
   "outputs": [],
   "source": []
  },
  {
   "cell_type": "code",
   "execution_count": null,
   "id": "c7c6d89b",
   "metadata": {},
   "outputs": [],
   "source": []
  },
  {
   "cell_type": "code",
   "execution_count": null,
   "id": "99e54de0",
   "metadata": {},
   "outputs": [],
   "source": []
  },
  {
   "cell_type": "code",
   "execution_count": null,
   "id": "a18afa6f",
   "metadata": {},
   "outputs": [],
   "source": []
  },
  {
   "cell_type": "code",
   "execution_count": null,
   "id": "10ab15aa",
   "metadata": {},
   "outputs": [],
   "source": []
  },
  {
   "cell_type": "code",
   "execution_count": null,
   "id": "1e577f45",
   "metadata": {},
   "outputs": [],
   "source": []
  },
  {
   "cell_type": "code",
   "execution_count": null,
   "id": "970f6d81",
   "metadata": {},
   "outputs": [],
   "source": []
  },
  {
   "cell_type": "code",
   "execution_count": null,
   "id": "bf743f9c",
   "metadata": {},
   "outputs": [],
   "source": []
  },
  {
   "cell_type": "code",
   "execution_count": null,
   "id": "4aac9953",
   "metadata": {},
   "outputs": [],
   "source": []
  },
  {
   "cell_type": "code",
   "execution_count": null,
   "id": "d2e0dae9",
   "metadata": {},
   "outputs": [],
   "source": []
  },
  {
   "cell_type": "code",
   "execution_count": null,
   "id": "2c215ef6",
   "metadata": {},
   "outputs": [],
   "source": []
  },
  {
   "cell_type": "code",
   "execution_count": null,
   "id": "8784cacb",
   "metadata": {},
   "outputs": [],
   "source": []
  },
  {
   "cell_type": "code",
   "execution_count": null,
   "id": "8455f1f0",
   "metadata": {},
   "outputs": [],
   "source": []
  },
  {
   "cell_type": "code",
   "execution_count": null,
   "id": "a67c1b77",
   "metadata": {},
   "outputs": [],
   "source": []
  },
  {
   "cell_type": "code",
   "execution_count": null,
   "id": "3848df04",
   "metadata": {},
   "outputs": [],
   "source": []
  },
  {
   "cell_type": "code",
   "execution_count": null,
   "id": "1988ce73",
   "metadata": {},
   "outputs": [],
   "source": []
  },
  {
   "cell_type": "code",
   "execution_count": null,
   "id": "b8302f92",
   "metadata": {},
   "outputs": [],
   "source": []
  },
  {
   "cell_type": "code",
   "execution_count": null,
   "id": "9bf9ba12",
   "metadata": {},
   "outputs": [],
   "source": []
  },
  {
   "cell_type": "code",
   "execution_count": null,
   "id": "05565420",
   "metadata": {},
   "outputs": [],
   "source": []
  },
  {
   "cell_type": "code",
   "execution_count": null,
   "id": "43d38c6f",
   "metadata": {},
   "outputs": [],
   "source": []
  },
  {
   "cell_type": "code",
   "execution_count": null,
   "id": "7f10b6e8",
   "metadata": {},
   "outputs": [],
   "source": []
  },
  {
   "cell_type": "code",
   "execution_count": null,
   "id": "dc1d7678",
   "metadata": {},
   "outputs": [],
   "source": []
  },
  {
   "cell_type": "code",
   "execution_count": null,
   "id": "3a68efaa",
   "metadata": {},
   "outputs": [],
   "source": []
  },
  {
   "cell_type": "code",
   "execution_count": null,
   "id": "c9a279e2",
   "metadata": {},
   "outputs": [],
   "source": []
  },
  {
   "cell_type": "code",
   "execution_count": null,
   "id": "36035007",
   "metadata": {},
   "outputs": [],
   "source": []
  },
  {
   "cell_type": "code",
   "execution_count": null,
   "id": "bc3bf01f",
   "metadata": {},
   "outputs": [],
   "source": []
  },
  {
   "cell_type": "code",
   "execution_count": null,
   "id": "89d027f5",
   "metadata": {},
   "outputs": [],
   "source": []
  },
  {
   "cell_type": "code",
   "execution_count": null,
   "id": "b333c9a0",
   "metadata": {},
   "outputs": [],
   "source": []
  },
  {
   "cell_type": "code",
   "execution_count": null,
   "id": "ee524964",
   "metadata": {},
   "outputs": [],
   "source": []
  },
  {
   "cell_type": "code",
   "execution_count": null,
   "id": "de68907c",
   "metadata": {},
   "outputs": [],
   "source": []
  },
  {
   "cell_type": "code",
   "execution_count": null,
   "id": "eb78ab44",
   "metadata": {},
   "outputs": [],
   "source": []
  },
  {
   "cell_type": "code",
   "execution_count": null,
   "id": "58aae080",
   "metadata": {},
   "outputs": [],
   "source": []
  },
  {
   "cell_type": "code",
   "execution_count": null,
   "id": "2258633f",
   "metadata": {},
   "outputs": [],
   "source": []
  },
  {
   "cell_type": "code",
   "execution_count": null,
   "id": "050c10c2",
   "metadata": {},
   "outputs": [],
   "source": []
  },
  {
   "cell_type": "code",
   "execution_count": null,
   "id": "5a075514",
   "metadata": {},
   "outputs": [],
   "source": []
  },
  {
   "cell_type": "code",
   "execution_count": null,
   "id": "d639b0a6",
   "metadata": {},
   "outputs": [],
   "source": []
  },
  {
   "cell_type": "code",
   "execution_count": null,
   "id": "db7d8de6",
   "metadata": {},
   "outputs": [],
   "source": []
  },
  {
   "cell_type": "code",
   "execution_count": null,
   "id": "ad732cc2",
   "metadata": {},
   "outputs": [],
   "source": []
  },
  {
   "cell_type": "code",
   "execution_count": null,
   "id": "adf6e83c",
   "metadata": {},
   "outputs": [],
   "source": []
  },
  {
   "cell_type": "code",
   "execution_count": null,
   "id": "a23e2a14",
   "metadata": {},
   "outputs": [],
   "source": []
  },
  {
   "cell_type": "code",
   "execution_count": null,
   "id": "df1e85e1",
   "metadata": {},
   "outputs": [],
   "source": []
  },
  {
   "cell_type": "code",
   "execution_count": null,
   "id": "5eedb418",
   "metadata": {},
   "outputs": [],
   "source": []
  },
  {
   "cell_type": "code",
   "execution_count": null,
   "id": "2397aa5e",
   "metadata": {},
   "outputs": [],
   "source": []
  },
  {
   "cell_type": "code",
   "execution_count": null,
   "id": "880b5d8a",
   "metadata": {},
   "outputs": [],
   "source": []
  },
  {
   "cell_type": "code",
   "execution_count": null,
   "id": "e80cc3ea",
   "metadata": {},
   "outputs": [],
   "source": []
  },
  {
   "cell_type": "code",
   "execution_count": null,
   "id": "dfcdd74a",
   "metadata": {},
   "outputs": [],
   "source": []
  },
  {
   "cell_type": "code",
   "execution_count": null,
   "id": "8dfe4663",
   "metadata": {},
   "outputs": [],
   "source": []
  },
  {
   "cell_type": "code",
   "execution_count": null,
   "id": "a4718d68",
   "metadata": {},
   "outputs": [],
   "source": []
  },
  {
   "cell_type": "code",
   "execution_count": null,
   "id": "a565b842",
   "metadata": {},
   "outputs": [],
   "source": []
  },
  {
   "cell_type": "code",
   "execution_count": null,
   "id": "30e6dc35",
   "metadata": {},
   "outputs": [],
   "source": []
  },
  {
   "cell_type": "code",
   "execution_count": null,
   "id": "5d1a1942",
   "metadata": {},
   "outputs": [],
   "source": []
  },
  {
   "cell_type": "code",
   "execution_count": null,
   "id": "0a275db7",
   "metadata": {},
   "outputs": [],
   "source": []
  },
  {
   "cell_type": "code",
   "execution_count": null,
   "id": "41692ccd",
   "metadata": {},
   "outputs": [],
   "source": []
  },
  {
   "cell_type": "code",
   "execution_count": null,
   "id": "edd0531f",
   "metadata": {},
   "outputs": [],
   "source": []
  },
  {
   "cell_type": "code",
   "execution_count": null,
   "id": "776fba1e",
   "metadata": {},
   "outputs": [],
   "source": []
  },
  {
   "cell_type": "code",
   "execution_count": null,
   "id": "8f686b7d",
   "metadata": {},
   "outputs": [],
   "source": []
  },
  {
   "cell_type": "code",
   "execution_count": null,
   "id": "273daef5",
   "metadata": {},
   "outputs": [],
   "source": []
  },
  {
   "cell_type": "code",
   "execution_count": null,
   "id": "0c0cfe0a",
   "metadata": {},
   "outputs": [],
   "source": []
  },
  {
   "cell_type": "code",
   "execution_count": null,
   "id": "9dcc9acc",
   "metadata": {},
   "outputs": [],
   "source": []
  },
  {
   "cell_type": "code",
   "execution_count": null,
   "id": "369e7127",
   "metadata": {},
   "outputs": [],
   "source": []
  },
  {
   "cell_type": "code",
   "execution_count": null,
   "id": "ab6bbb59",
   "metadata": {},
   "outputs": [],
   "source": []
  },
  {
   "cell_type": "code",
   "execution_count": null,
   "id": "10684d2e",
   "metadata": {},
   "outputs": [],
   "source": []
  },
  {
   "cell_type": "code",
   "execution_count": null,
   "id": "fd6b49a2",
   "metadata": {},
   "outputs": [],
   "source": []
  },
  {
   "cell_type": "code",
   "execution_count": null,
   "id": "a6dfd273",
   "metadata": {},
   "outputs": [],
   "source": []
  },
  {
   "cell_type": "code",
   "execution_count": null,
   "id": "9c7c842a",
   "metadata": {},
   "outputs": [],
   "source": []
  },
  {
   "cell_type": "code",
   "execution_count": null,
   "id": "fdc4bd1a",
   "metadata": {},
   "outputs": [],
   "source": []
  },
  {
   "cell_type": "code",
   "execution_count": null,
   "id": "a71c4ac9",
   "metadata": {},
   "outputs": [],
   "source": []
  },
  {
   "cell_type": "code",
   "execution_count": null,
   "id": "8fea6fff",
   "metadata": {},
   "outputs": [],
   "source": []
  },
  {
   "cell_type": "code",
   "execution_count": null,
   "id": "314af92f",
   "metadata": {},
   "outputs": [],
   "source": []
  },
  {
   "cell_type": "code",
   "execution_count": null,
   "id": "41babfc4",
   "metadata": {},
   "outputs": [],
   "source": []
  }
 ],
 "metadata": {
  "kernelspec": {
   "display_name": "Python 3 (ipykernel)",
   "language": "python",
   "name": "python3"
  },
  "language_info": {
   "codemirror_mode": {
    "name": "ipython",
    "version": 3
   },
   "file_extension": ".py",
   "mimetype": "text/x-python",
   "name": "python",
   "nbconvert_exporter": "python",
   "pygments_lexer": "ipython3",
   "version": "3.9.12"
  }
 },
 "nbformat": 4,
 "nbformat_minor": 5
}
